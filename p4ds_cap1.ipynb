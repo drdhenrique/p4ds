{
  "nbformat": 4,
  "nbformat_minor": 0,
  "metadata": {
    "colab": {
      "provenance": [],
      "authorship_tag": "ABX9TyMFB3d1vOpgzDRgl3PwC/SJ",
      "include_colab_link": true
    },
    "kernelspec": {
      "name": "python3",
      "display_name": "Python 3"
    },
    "language_info": {
      "name": "python"
    }
  },
  "cells": [
    {
      "cell_type": "markdown",
      "metadata": {
        "id": "view-in-github",
        "colab_type": "text"
      },
      "source": [
        "<a href=\"https://colab.research.google.com/github/drdhenrique/p4ds/blob/main/p4ds_cap1.ipynb\" target=\"_parent\"><img src=\"https://colab.research.google.com/assets/colab-badge.svg\" alt=\"Open In Colab\"/></a>"
      ]
    },
    {
      "cell_type": "code",
      "execution_count": 6,
      "metadata": {
        "colab": {
          "base_uri": "https://localhost:8080/"
        },
        "id": "ffSY4i_cPrVn",
        "outputId": "aaa8402a-85b7-438a-fa48-d793b859a957"
      },
      "outputs": [
        {
          "output_type": "stream",
          "name": "stdout",
          "text": [
            "Collecting lets_plot\n",
            "  Downloading lets_plot-4.0.1-cp310-cp310-manylinux_2_17_x86_64.manylinux2014_x86_64.whl (3.0 MB)\n",
            "\u001b[2K     \u001b[90m━━━━━━━━━━━━━━━━━━━━━━━━━━━━━━━━━━━━━━━━\u001b[0m \u001b[32m3.0/3.0 MB\u001b[0m \u001b[31m11.6 MB/s\u001b[0m eta \u001b[36m0:00:00\u001b[0m\n",
            "\u001b[?25hCollecting pypng (from lets_plot)\n",
            "  Downloading pypng-0.20220715.0-py3-none-any.whl (58 kB)\n",
            "\u001b[2K     \u001b[90m━━━━━━━━━━━━━━━━━━━━━━━━━━━━━━━━━━━━━━━━\u001b[0m \u001b[32m58.1/58.1 kB\u001b[0m \u001b[31m5.7 MB/s\u001b[0m eta \u001b[36m0:00:00\u001b[0m\n",
            "\u001b[?25hCollecting palettable (from lets_plot)\n",
            "  Downloading palettable-3.3.3-py2.py3-none-any.whl (332 kB)\n",
            "\u001b[2K     \u001b[90m━━━━━━━━━━━━━━━━━━━━━━━━━━━━━━━━━━━━━━\u001b[0m \u001b[32m332.3/332.3 kB\u001b[0m \u001b[31m17.8 MB/s\u001b[0m eta \u001b[36m0:00:00\u001b[0m\n",
            "\u001b[?25hInstalling collected packages: pypng, palettable, lets_plot\n",
            "Successfully installed lets_plot-4.0.1 palettable-3.3.3 pypng-0.20220715.0\n"
          ]
        }
      ],
      "source": [
        "!pip install lets_plot\n",
        "!pip install palmerpenguins"
      ]
    },
    {
      "cell_type": "code",
      "source": [
        "import pandas as pd\n",
        "from palmerpenguins import load_penguins\n",
        "from lets_plot import *\n",
        "\n",
        "LetsPlot.setup_html()\n"
      ],
      "metadata": {
        "id": "7Veavl1JTvpS"
      },
      "execution_count": 7,
      "outputs": []
    },
    {
      "cell_type": "code",
      "source": [
        "penguins = load_penguins()\n",
        "penguins.head()\n"
      ],
      "metadata": {
        "colab": {
          "base_uri": "https://localhost:8080/"
        },
        "id": "3Fly1IOVVSW5",
        "outputId": "fc485acf-1bec-404f-dda3-133e3a5d9749"
      },
      "execution_count": 17,
      "outputs": [
        {
          "output_type": "execute_result",
          "data": {
            "text/plain": [
              "(344, 8)"
            ]
          },
          "metadata": {},
          "execution_count": 17
        }
      ]
    },
    {
      "cell_type": "code",
      "source": [],
      "metadata": {
        "colab": {
          "base_uri": "https://localhost:8080/",
          "height": 175
        },
        "id": "Dwk3AZuAVfwx",
        "outputId": "f4609e0e-2c16-4663-bbf3-bdfa35033cbf"
      },
      "execution_count": 16,
      "outputs": [
        {
          "output_type": "error",
          "ename": "NameError",
          "evalue": "ignored",
          "traceback": [
            "\u001b[0;31m---------------------------------------------------------------------------\u001b[0m",
            "\u001b[0;31mNameError\u001b[0m                                 Traceback (most recent call last)",
            "\u001b[0;32m<ipython-input-16-4c5932d47c5e>\u001b[0m in \u001b[0;36m<cell line: 1>\u001b[0;34m()\u001b[0m\n\u001b[0;32m----> 1\u001b[0;31m \u001b[0mshape\u001b[0m\u001b[0;34m(\u001b[0m\u001b[0mpenguins\u001b[0m\u001b[0;34m)\u001b[0m\u001b[0;34m\u001b[0m\u001b[0;34m\u001b[0m\u001b[0m\n\u001b[0m",
            "\u001b[0;31mNameError\u001b[0m: name 'shape' is not defined"
          ]
        }
      ]
    },
    {
      "cell_type": "code",
      "source": [
        "penguins.shape"
      ],
      "metadata": {
        "colab": {
          "base_uri": "https://localhost:8080/"
        },
        "id": "oDX3WtkaVgq_",
        "outputId": "dda154c1-f9f3-4900-ebe9-ca3a21520386"
      },
      "execution_count": 19,
      "outputs": [
        {
          "output_type": "execute_result",
          "data": {
            "text/plain": [
              "(344, 8)"
            ]
          },
          "metadata": {},
          "execution_count": 19
        }
      ]
    },
    {
      "cell_type": "code",
      "source": [
        "help(load_penguins)"
      ],
      "metadata": {
        "colab": {
          "base_uri": "https://localhost:8080/"
        },
        "id": "0WJOjc2BV1Nw",
        "outputId": "48673a04-5dae-48f6-d5f6-97522ff89704"
      },
      "execution_count": 20,
      "outputs": [
        {
          "output_type": "stream",
          "name": "stdout",
          "text": [
            "Help on function load_penguins in module palmerpenguins.penguins:\n",
            "\n",
            "load_penguins(return_X_y=False, drop_na=False)\n",
            "    Load and return the penguins dataset (classification).\n",
            "    \n",
            "    The Palmer penguins dataset is a dataset for data exploration & visualization, and can be used as an\n",
            "    alternative to the Iris dataset.\n",
            "    =================   ==============\n",
            "    Classes                          3\n",
            "    Samples per class        [152,168,124]\n",
            "    Samples total                  344\n",
            "    Dimensionality                  8\n",
            "    Features            real, integer, string, positive\n",
            "    =================   ==============\n",
            "    Read more in the :ref:`https://github.com/allisonhorst/palmerpenguins>`.\n",
            "    Parameters\n",
            "    ----------\n",
            "    return_X_y : bool, default=False\n",
            "        If True, returns a ``(data, target)`` tuple instead of a dataframe object.\n",
            "        See below for more information about the `data` and `target` object.\n",
            "    drop_na: bool, default=False\n",
            "    If True drop rows from dataset that contain missing values. Only available when `return_X_y = True`\n",
            "    \n",
            "    Returns\n",
            "    -------\n",
            "    data : :class:`pandas.core.frame.DataFrame`\n",
            "        data is a dataframe of shape (344  , 8) and has the following columns:\n",
            "    =================   ==============\n",
            "    species              a string denoting penguin species (Adélie, Chinstrap and Gentoo)\n",
            "    island               a string denoting island in Palmer Archipelago, Antarctica (Biscoe, Dream or Torgersen)\n",
            "    bill_length_mm       a number denoting bill length (millimeters)\n",
            "    bill_depth_mm        a number denoting bill depth (millimeters)\n",
            "    flipper_length_mm    an integer denoting flipper length (millimeters)\n",
            "    body_mass_g          an integer denoting body mass (grams)\n",
            "    sex                  a string denoting penguin sex (female, male)\n",
            "    year                 an integer denoting the study year (2007, 2008, or 2009)\n",
            "    =================   ==============\n",
            "    \n",
            "    (data, target) : tuple if ``return_X_y`` is True\n",
            "        data : a dataframe of shape (344  , 4)  where each column corresponds to one of the four size measurements of penguins including bill_length_mm, bill_depth_mm, flipper_length_mm and body_mass_g.\n",
            "        target: {ndarray, Series} of shape (344,)\n",
            "            The classification target (i.e. penguin species).\n",
            "    --------\n",
            "    Let's say you are interested in the samples 10, 80, and 140, and want to\n",
            "    know their class name.\n",
            "    >>> from palmerpenguins.penguins import load_penguins\n",
            "    >>> penguins = load_penguins()\n",
            "    >>> list(penguins.iloc[[1, 160, 300],0])\n",
            "    ['Adelie', 'Gentoo', 'Chinstrap']\n",
            "    >>> dict(pd.value_counts(penguins.species))\n",
            "    {'Adelie': 152, 'Gentoo': 124, 'Chinstrap': 68}\n",
            "\n"
          ]
        }
      ]
    }
  ]
}